{
 "cells": [
  {
   "cell_type": "markdown",
   "metadata": {},
   "source": [
    "#### Fauzan Taufik\n",
    "#### Machine Learning Developer Engeener"
   ]
  },
  {
   "cell_type": "markdown",
   "metadata": {},
   "source": [
    "## Control Flow"
   ]
  },
  {
   "cell_type": "markdown",
   "metadata": {},
   "source": [
    "Control flow adalah berbagai statement yang mengatur kode  mana yang akan di eksekusi didalam program kita. control flow ini bisa berupa conditional statement, loop, atau suatu fungsi. pada hari ini kita akan belajar condiional statement dan loop sebagai control flow."
   ]
  },
  {
   "cell_type": "markdown",
   "metadata": {},
   "source": [
    "### Control flow dengan conditional statement\n",
    "\n",
    "Seringkali ketika kita membuat suatu kode, kode itu akan di eksekusi hanya jika memenuhu suatu kondisi tertentu.\n",
    "\n",
    "kondisi ini akan di berikan dengan suatu logik yang kita bangun dengan comparison operator."
   ]
  },
  {
   "cell_type": "code",
   "execution_count": 5,
   "metadata": {},
   "outputs": [
    {
     "name": "stdout",
     "output_type": "stream",
     "text": [
      "False\n"
     ]
    }
   ],
   "source": [
    "a = 2\n",
    "b = 5\n",
    "\n",
    "print(a != b)"
   ]
  },
  {
   "cell_type": "code",
   "execution_count": 3,
   "metadata": {},
   "outputs": [
    {
     "name": "stdout",
     "output_type": "stream",
     "text": [
      "Tidak memenuhi 2 kondisi diatas\n"
     ]
    }
   ],
   "source": [
    "a = 1\n",
    "\n",
    "if a > 10 :\n",
    "    print('lebih dari 10')\n",
    "elif a > 5 :\n",
    "    print('a lebih dari 5 kurang dari 10')\n",
    "else :\n",
    "    print('Tidak memenuhi 2 kondisi diatas')"
   ]
  },
  {
   "cell_type": "markdown",
   "metadata": {},
   "source": [
    "contohnya kita akan menulis kode seperti untuk hal berikut.\n",
    "\n",
    "\"Jika saya mempunyai penghasilan kurang dari 3 juta, maka saya akan menyisihkan 10% untuk sedekah, 20% untuk investasi, dan sisanya untuk kebutuhan pribadi dan keluarga, jika saya memiliki penghailan kurang dari 6 juta maka saya akan menyisihkan 17% untuk sedekah, 30% untuk investasi dan sisanya untuk kebutuhan keluarga, selain itu saya akan menyisihkan untuk sedekah sebanyak 25%, investasi 35% dan sisanya untuk kebutuhan pribadi dan keluarga\"\n",
    "\n",
    "buatlah kode dengan kondisi di atas."
   ]
  },
  {
   "cell_type": "code",
   "execution_count": 6,
   "metadata": {},
   "outputs": [
    {
     "name": "stdout",
     "output_type": "stream",
     "text": [
      "8\n"
     ]
    }
   ],
   "source": [
    "gaji = int(input())\n",
    "\n",
    "if gaji < 3 :\n",
    "    sedekah = 0.1*gaji\n",
    "    investasi = 0.2*gaji\n",
    "    kebutuhan = gaji - (sedekah+investasi)\n",
    "elif gaji < 6 :\n",
    "    sedekah = 0.17*gaji\n",
    "    investasi = 0.3*gaji\n",
    "    kebutuhan = gaji - (sedekah+investasi)    \n",
    "else :\n",
    "    sedekah = 0.25*gaji\n",
    "    investasi = 0.35*gaji\n",
    "    kebutuhan = gaji - (sedekah+investasi)"
   ]
  },
  {
   "cell_type": "code",
   "execution_count": 7,
   "metadata": {},
   "outputs": [
    {
     "name": "stdout",
     "output_type": "stream",
     "text": [
      "2.0\n"
     ]
    }
   ],
   "source": [
    "print(sedekah)"
   ]
  },
  {
   "cell_type": "code",
   "execution_count": 8,
   "metadata": {},
   "outputs": [
    {
     "name": "stdout",
     "output_type": "stream",
     "text": [
      "2.8\n"
     ]
    }
   ],
   "source": [
    "print(investasi)"
   ]
  },
  {
   "cell_type": "markdown",
   "metadata": {},
   "source": [
    "### while statement\n",
    "While adalah suatu statement yang memungkinkan kita untuk mengeksekusi suatu program secara berulang sepanjang memenuhu suatu kondisi tertentu."
   ]
  },
  {
   "cell_type": "code",
   "execution_count": 19,
   "metadata": {},
   "outputs": [
    {
     "name": "stdout",
     "output_type": "stream",
     "text": [
      "1\n",
      "2\n",
      "3\n",
      "4\n",
      "5\n",
      "6\n",
      "7\n",
      "8\n",
      "9\n",
      "testt\n"
     ]
    }
   ],
   "source": [
    "a = 1\n",
    "while a < 10 :\n",
    "    print(a)\n",
    "    a = a + 1\n",
    "    print(a)\n",
    "print('testt')"
   ]
  },
  {
   "cell_type": "code",
   "execution_count": null,
   "metadata": {},
   "outputs": [],
   "source": []
  },
  {
   "cell_type": "code",
   "execution_count": null,
   "metadata": {},
   "outputs": [],
   "source": []
  },
  {
   "cell_type": "markdown",
   "metadata": {},
   "source": [
    "### for loop\n",
    "for loop adalah suatu statement yang mengiterasi suatu objek yang berurutan."
   ]
  },
  {
   "cell_type": "code",
   "execution_count": 10,
   "metadata": {},
   "outputs": [
    {
     "name": "stdout",
     "output_type": "stream",
     "text": [
      "1\n",
      "2\n",
      "3\n",
      "4\n"
     ]
    }
   ],
   "source": [
    "a = [1, 2, 3, 4]\n",
    "\n",
    "for item in a :\n",
    "    print(item)"
   ]
  },
  {
   "cell_type": "code",
   "execution_count": null,
   "metadata": {},
   "outputs": [],
   "source": []
  },
  {
   "cell_type": "code",
   "execution_count": null,
   "metadata": {},
   "outputs": [],
   "source": []
  },
  {
   "cell_type": "markdown",
   "metadata": {},
   "source": [
    "### break statement\n",
    "break statement di pakai untuk mengakhiri suatu loop statement."
   ]
  },
  {
   "cell_type": "code",
   "execution_count": 15,
   "metadata": {},
   "outputs": [
    {
     "name": "stdout",
     "output_type": "stream",
     "text": [
      "Enter something : a\n",
      "panjang dari s 1\n",
      "Enter something : e\n",
      "panjang dari s 1\n",
      "Enter something : r\n",
      "panjang dari s 1\n",
      "Enter something : r\n",
      "panjang dari s 1\n",
      "Enter something : r\n",
      "panjang dari s 1\n",
      "Enter something : quit\n"
     ]
    }
   ],
   "source": [
    "while True :\n",
    "    s = input('Enter something : ')\n",
    "    if s == 'quit' :\n",
    "        break\n",
    "    print('panjang dari s {}'.format(len(s)))"
   ]
  },
  {
   "cell_type": "markdown",
   "metadata": {},
   "source": [
    "### continue statement\n",
    "continue adalah suatu statement yang memberitahu python untuk men-skip sisa kode setelahnya di dalam suatu loop dan melanjutkan ke iterasi selanjutnya."
   ]
  },
  {
   "cell_type": "code",
   "execution_count": null,
   "metadata": {},
   "outputs": [
    {
     "name": "stdout",
     "output_type": "stream",
     "text": [
      "Enter something : a\n",
      "s terlalu kecil\n",
      "Enter something : testt\n",
      "panjang dari s 5\n"
     ]
    }
   ],
   "source": [
    "while True :\n",
    "    s = input('Enter something : ')\n",
    "    if s == 'quit' :\n",
    "        break\n",
    "        \n",
    "    if len(s) < 3 :\n",
    "        print('s terlalu kecil')\n",
    "        continue\n",
    "        \n",
    "    print('panjang dari s {0} dan s adalah : {1}'.format(len(s), s))"
   ]
  },
  {
   "cell_type": "code",
   "execution_count": 6,
   "metadata": {},
   "outputs": [
    {
     "name": "stdout",
     "output_type": "stream",
     "text": [
      "panjang dari s 6 dan s adalah : testtt\n"
     ]
    }
   ],
   "source": [
    "s = 'testtt'\n",
    "print('panjang dari s {panjang_s} dan s adalah : {string_s}'.format(panjang_s = len(s), string_s = s))"
   ]
  },
  {
   "cell_type": "markdown",
   "metadata": {},
   "source": [
    "### Exception Handling\n",
    "Ketika ada suatu error di kode kita, python biasanya akan berhenti mengeksekusi kode selanjutnya dan menampilkan error, Exception handling adalah berbagai statement kode yang mengatur error di dalam kode.\n",
    "\n",
    "Try : suatu statement yang mengetest kode error\n",
    "\n",
    "except : suatu statement yang menghandle apabila ada error\n",
    "\n",
    "finally : suatu statement yang mengeksekusi suatu kode, terlepas hasil dari try dan except."
   ]
  },
  {
   "cell_type": "code",
   "execution_count": 10,
   "metadata": {},
   "outputs": [
    {
     "name": "stdout",
     "output_type": "stream",
     "text": [
      "3\n",
      "0\n",
      "division by zero\n",
      "Ada error\n",
      "Selesai\n"
     ]
    },
    {
     "ename": "ZeroDivisionError",
     "evalue": "division by zero",
     "output_type": "error",
     "traceback": [
      "\u001b[1;31m---------------------------------------------------------------------------\u001b[0m",
      "\u001b[1;31mZeroDivisionError\u001b[0m                         Traceback (most recent call last)",
      "\u001b[1;32m<ipython-input-10-80bd5dd641e7>\u001b[0m in \u001b[0;36m<module>\u001b[1;34m\u001b[0m\n\u001b[0;32m      8\u001b[0m \u001b[1;32mfinally\u001b[0m \u001b[1;33m:\u001b[0m\u001b[1;33m\u001b[0m\u001b[1;33m\u001b[0m\u001b[0m\n\u001b[0;32m      9\u001b[0m     \u001b[0mprint\u001b[0m\u001b[1;33m(\u001b[0m\u001b[1;34m'Selesai'\u001b[0m\u001b[1;33m)\u001b[0m\u001b[1;33m\u001b[0m\u001b[1;33m\u001b[0m\u001b[0m\n\u001b[1;32m---> 10\u001b[1;33m \u001b[0mc\u001b[0m \u001b[1;33m=\u001b[0m \u001b[0ma\u001b[0m\u001b[1;33m/\u001b[0m\u001b[0mb\u001b[0m\u001b[1;33m\u001b[0m\u001b[1;33m\u001b[0m\u001b[0m\n\u001b[0m",
      "\u001b[1;31mZeroDivisionError\u001b[0m: division by zero"
     ]
    }
   ],
   "source": [
    "a = int(input())\n",
    "b = int(input())\n",
    "try :\n",
    "    c = a/b\n",
    "except Exception as e :\n",
    "    print(e)\n",
    "    print('Ada error')\n",
    "finally :\n",
    "    print('Selesai')\n",
    "c = a/b"
   ]
  },
  {
   "cell_type": "code",
   "execution_count": 9,
   "metadata": {},
   "outputs": [
    {
     "name": "stdout",
     "output_type": "stream",
     "text": [
      "True\n"
     ]
    }
   ],
   "source": [
    "print(6 > 5 and 2 < 5 or 5==5)"
   ]
  },
  {
   "cell_type": "code",
   "execution_count": 17,
   "metadata": {},
   "outputs": [
    {
     "data": {
      "text/plain": [
       "6"
      ]
     },
     "execution_count": 17,
     "metadata": {},
     "output_type": "execute_result"
    }
   ],
   "source": [
    "sum([1, 2, 3])"
   ]
  },
  {
   "cell_type": "code",
   "execution_count": 15,
   "metadata": {},
   "outputs": [
    {
     "name": "stdout",
     "output_type": "stream",
     "text": [
      "Selesai\n"
     ]
    }
   ],
   "source": [
    "if True :\n",
    "    pass\n",
    "\n",
    "print('Selesai')"
   ]
  },
  {
   "cell_type": "code",
   "execution_count": null,
   "metadata": {},
   "outputs": [],
   "source": []
  },
  {
   "cell_type": "code",
   "execution_count": null,
   "metadata": {},
   "outputs": [],
   "source": [
    "w3schools"
   ]
  },
  {
   "cell_type": "code",
   "execution_count": null,
   "metadata": {},
   "outputs": [],
   "source": [
    "programmergeeks"
   ]
  }
 ],
 "metadata": {
  "kernelspec": {
   "display_name": "Python 3",
   "language": "python",
   "name": "python3"
  },
  "language_info": {
   "codemirror_mode": {
    "name": "ipython",
    "version": 3
   },
   "file_extension": ".py",
   "mimetype": "text/x-python",
   "name": "python",
   "nbconvert_exporter": "python",
   "pygments_lexer": "ipython3",
   "version": "3.7.6"
  }
 },
 "nbformat": 4,
 "nbformat_minor": 4
}
